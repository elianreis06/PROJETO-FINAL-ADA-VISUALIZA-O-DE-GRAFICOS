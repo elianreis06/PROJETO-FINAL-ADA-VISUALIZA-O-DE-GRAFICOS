{
  "cells": [
    {
      "cell_type": "markdown",
      "metadata": {
        "id": "view-in-github",
        "colab_type": "text"
      },
      "source": [
        "<a href=\"https://colab.research.google.com/github/elianreis06/PROJETO-FINAL-ADA-VISUALIZA-O-DE-GRAFICOS/blob/main/Relat%C3%B3rio_de_an%C3%A1lise_I_(2).ipynb\" target=\"_parent\"><img src=\"https://colab.research.google.com/assets/colab-badge.svg\" alt=\"Open In Colab\"/></a>"
      ]
    },
    {
      "cell_type": "markdown",
      "id": "bd70303a",
      "metadata": {
        "id": "bd70303a"
      },
      "source": [
        "# Relatório de análise - Desempenho de alunos em provas avaliativas'\n"
      ]
    },
    {
      "cell_type": "code",
      "execution_count": 1,
      "id": "c7a99d05",
      "metadata": {
        "id": "c7a99d05"
      },
      "outputs": [],
      "source": [
        "%matplotlib inline\n",
        "import numpy as np \n",
        "import pandas as pd \n",
        "import seaborn as sns \n",
        "import matplotlib.pyplot as plt\n",
        "plt.rc('figure', figsize = (6,3))"
      ]
    },
    {
      "cell_type": "code",
      "execution_count": 3,
      "id": "2c37849c",
      "metadata": {
        "id": "2c37849c"
      },
      "outputs": [],
      "source": [
        "df = pd.read_csv('exams.csv')"
      ]
    },
    {
      "cell_type": "code",
      "execution_count": null,
      "id": "7ae7a957",
      "metadata": {
        "id": "7ae7a957",
        "outputId": "da59ba20-a3ab-44df-cebd-f0e41ff2e37c"
      },
      "outputs": [
        {
          "data": {
            "text/html": [
              "<div>\n",
              "<style scoped>\n",
              "    .dataframe tbody tr th:only-of-type {\n",
              "        vertical-align: middle;\n",
              "    }\n",
              "\n",
              "    .dataframe tbody tr th {\n",
              "        vertical-align: top;\n",
              "    }\n",
              "\n",
              "    .dataframe thead th {\n",
              "        text-align: right;\n",
              "    }\n",
              "</style>\n",
              "<table border=\"1\" class=\"dataframe\">\n",
              "  <thead>\n",
              "    <tr style=\"text-align: right;\">\n",
              "      <th></th>\n",
              "      <th>gender</th>\n",
              "      <th>race/ethnicity</th>\n",
              "      <th>parental level of education</th>\n",
              "      <th>lunch</th>\n",
              "      <th>test preparation course</th>\n",
              "      <th>math score</th>\n",
              "      <th>reading score</th>\n",
              "      <th>writing score</th>\n",
              "    </tr>\n",
              "  </thead>\n",
              "  <tbody>\n",
              "    <tr>\n",
              "      <th>0</th>\n",
              "      <td>male</td>\n",
              "      <td>group A</td>\n",
              "      <td>high school</td>\n",
              "      <td>standard</td>\n",
              "      <td>completed</td>\n",
              "      <td>67</td>\n",
              "      <td>67</td>\n",
              "      <td>63</td>\n",
              "    </tr>\n",
              "    <tr>\n",
              "      <th>1</th>\n",
              "      <td>female</td>\n",
              "      <td>group D</td>\n",
              "      <td>some high school</td>\n",
              "      <td>free/reduced</td>\n",
              "      <td>none</td>\n",
              "      <td>40</td>\n",
              "      <td>59</td>\n",
              "      <td>55</td>\n",
              "    </tr>\n",
              "    <tr>\n",
              "      <th>2</th>\n",
              "      <td>male</td>\n",
              "      <td>group E</td>\n",
              "      <td>some college</td>\n",
              "      <td>free/reduced</td>\n",
              "      <td>none</td>\n",
              "      <td>59</td>\n",
              "      <td>60</td>\n",
              "      <td>50</td>\n",
              "    </tr>\n",
              "    <tr>\n",
              "      <th>3</th>\n",
              "      <td>male</td>\n",
              "      <td>group B</td>\n",
              "      <td>high school</td>\n",
              "      <td>standard</td>\n",
              "      <td>none</td>\n",
              "      <td>77</td>\n",
              "      <td>78</td>\n",
              "      <td>68</td>\n",
              "    </tr>\n",
              "    <tr>\n",
              "      <th>4</th>\n",
              "      <td>male</td>\n",
              "      <td>group E</td>\n",
              "      <td>associate's degree</td>\n",
              "      <td>standard</td>\n",
              "      <td>completed</td>\n",
              "      <td>78</td>\n",
              "      <td>73</td>\n",
              "      <td>68</td>\n",
              "    </tr>\n",
              "    <tr>\n",
              "      <th>...</th>\n",
              "      <td>...</td>\n",
              "      <td>...</td>\n",
              "      <td>...</td>\n",
              "      <td>...</td>\n",
              "      <td>...</td>\n",
              "      <td>...</td>\n",
              "      <td>...</td>\n",
              "      <td>...</td>\n",
              "    </tr>\n",
              "    <tr>\n",
              "      <th>995</th>\n",
              "      <td>male</td>\n",
              "      <td>group C</td>\n",
              "      <td>high school</td>\n",
              "      <td>standard</td>\n",
              "      <td>none</td>\n",
              "      <td>73</td>\n",
              "      <td>70</td>\n",
              "      <td>65</td>\n",
              "    </tr>\n",
              "    <tr>\n",
              "      <th>996</th>\n",
              "      <td>male</td>\n",
              "      <td>group D</td>\n",
              "      <td>associate's degree</td>\n",
              "      <td>free/reduced</td>\n",
              "      <td>completed</td>\n",
              "      <td>85</td>\n",
              "      <td>91</td>\n",
              "      <td>92</td>\n",
              "    </tr>\n",
              "    <tr>\n",
              "      <th>997</th>\n",
              "      <td>female</td>\n",
              "      <td>group C</td>\n",
              "      <td>some high school</td>\n",
              "      <td>free/reduced</td>\n",
              "      <td>none</td>\n",
              "      <td>32</td>\n",
              "      <td>35</td>\n",
              "      <td>41</td>\n",
              "    </tr>\n",
              "    <tr>\n",
              "      <th>998</th>\n",
              "      <td>female</td>\n",
              "      <td>group C</td>\n",
              "      <td>some college</td>\n",
              "      <td>standard</td>\n",
              "      <td>none</td>\n",
              "      <td>73</td>\n",
              "      <td>74</td>\n",
              "      <td>82</td>\n",
              "    </tr>\n",
              "    <tr>\n",
              "      <th>999</th>\n",
              "      <td>male</td>\n",
              "      <td>group A</td>\n",
              "      <td>some college</td>\n",
              "      <td>standard</td>\n",
              "      <td>completed</td>\n",
              "      <td>65</td>\n",
              "      <td>60</td>\n",
              "      <td>62</td>\n",
              "    </tr>\n",
              "  </tbody>\n",
              "</table>\n",
              "<p>1000 rows × 8 columns</p>\n",
              "</div>"
            ],
            "text/plain": [
              "     gender race/ethnicity parental level of education         lunch  \\\n",
              "0      male        group A                 high school      standard   \n",
              "1    female        group D            some high school  free/reduced   \n",
              "2      male        group E                some college  free/reduced   \n",
              "3      male        group B                 high school      standard   \n",
              "4      male        group E          associate's degree      standard   \n",
              "..      ...            ...                         ...           ...   \n",
              "995    male        group C                 high school      standard   \n",
              "996    male        group D          associate's degree  free/reduced   \n",
              "997  female        group C            some high school  free/reduced   \n",
              "998  female        group C                some college      standard   \n",
              "999    male        group A                some college      standard   \n",
              "\n",
              "    test preparation course  math score  reading score  writing score  \n",
              "0                 completed          67             67             63  \n",
              "1                      none          40             59             55  \n",
              "2                      none          59             60             50  \n",
              "3                      none          77             78             68  \n",
              "4                 completed          78             73             68  \n",
              "..                      ...         ...            ...            ...  \n",
              "995                    none          73             70             65  \n",
              "996               completed          85             91             92  \n",
              "997                    none          32             35             41  \n",
              "998                    none          73             74             82  \n",
              "999               completed          65             60             62  \n",
              "\n",
              "[1000 rows x 8 columns]"
            ]
          },
          "execution_count": 49,
          "metadata": {},
          "output_type": "execute_result"
        }
      ],
      "source": [
        "df"
      ]
    },
    {
      "cell_type": "code",
      "execution_count": 4,
      "id": "ed8cdc39",
      "metadata": {
        "colab": {
          "base_uri": "https://localhost:8080/"
        },
        "id": "ed8cdc39",
        "outputId": "4f831bd4-6b96-4adb-c53a-a95d768bd484"
      },
      "outputs": [
        {
          "output_type": "execute_result",
          "data": {
            "text/plain": [
              "gender                         0\n",
              "race/ethnicity                 0\n",
              "parental level of education    0\n",
              "lunch                          0\n",
              "test preparation course        0\n",
              "math score                     0\n",
              "reading score                  0\n",
              "writing score                  0\n",
              "dtype: int64"
            ]
          },
          "metadata": {},
          "execution_count": 4
        }
      ],
      "source": [
        "# Conferindo se há valores nulos\n",
        "df.isnull().sum()"
      ]
    },
    {
      "cell_type": "code",
      "execution_count": 5,
      "id": "a45e9a47",
      "metadata": {
        "id": "a45e9a47"
      },
      "outputs": [],
      "source": [
        "df=df.rename(columns={\n",
        "    \"race/ethnicity\":\"race_ethnicity\",\n",
        "    \"parental level of education\":\"Education\",\n",
        "    \"test preparation course\":\"test_preparation_course\",\n",
        "    \"math score\":\"math_score\",\n",
        "    \"reading score\":\"reading_score\",\n",
        "    \"writing score\":\"writing_score\"})"
      ]
    },
    {
      "cell_type": "code",
      "execution_count": 6,
      "id": "dd01b1aa",
      "metadata": {
        "colab": {
          "base_uri": "https://localhost:8080/"
        },
        "id": "dd01b1aa",
        "outputId": "eb5fa79f-76f7-445d-d48e-930e088a5fbf"
      },
      "outputs": [
        {
          "output_type": "stream",
          "name": "stdout",
          "text": [
            "<class 'pandas.core.frame.DataFrame'>\n",
            "RangeIndex: 1000 entries, 0 to 999\n",
            "Data columns (total 8 columns):\n",
            " #   Column                   Non-Null Count  Dtype \n",
            "---  ------                   --------------  ----- \n",
            " 0   gender                   1000 non-null   object\n",
            " 1   race_ethnicity           1000 non-null   object\n",
            " 2   Education                1000 non-null   object\n",
            " 3   lunch                    1000 non-null   object\n",
            " 4   test_preparation_course  1000 non-null   object\n",
            " 5   math_score               1000 non-null   int64 \n",
            " 6   reading_score            1000 non-null   int64 \n",
            " 7   writing_score            1000 non-null   int64 \n",
            "dtypes: int64(3), object(5)\n",
            "memory usage: 62.6+ KB\n"
          ]
        }
      ],
      "source": [
        "df.info()"
      ]
    },
    {
      "cell_type": "code",
      "execution_count": 7,
      "id": "e8010b4c",
      "metadata": {
        "colab": {
          "base_uri": "https://localhost:8080/"
        },
        "id": "e8010b4c",
        "outputId": "f6b893db-5880-4f19-fcf9-690acda2af80"
      },
      "outputs": [
        {
          "output_type": "execute_result",
          "data": {
            "text/plain": [
              "some college          222\n",
              "associate's degree    203\n",
              "high school           202\n",
              "some high school      191\n",
              "bachelor's degree     112\n",
              "master's degree        70\n",
              "Name: Education, dtype: int64"
            ]
          },
          "metadata": {},
          "execution_count": 7
        }
      ],
      "source": [
        "df['Education'].value_counts()"
      ]
    },
    {
      "cell_type": "code",
      "execution_count": 8,
      "id": "402f0178",
      "metadata": {
        "colab": {
          "base_uri": "https://localhost:8080/",
          "height": 225
        },
        "id": "402f0178",
        "outputId": "93c07b09-04e0-4900-aaf4-3eeec6e8c193"
      },
      "outputs": [
        {
          "output_type": "display_data",
          "data": {
            "text/plain": [
              "<Figure size 432x216 with 1 Axes>"
            ],
            "image/png": "[encoded data removed]"
          },
          "metadata": {
            "needs_background": "light"
          }
        }
      ],
      "source": [
        "# Utilizando o seaborn\n",
        "sns.countplot(data=df, y=\"Education\", palette='bright')\n",
        "plt.show()"
      ]
    },
    {
      "cell_type": "code",
      "execution_count": 9,
      "id": "12a34a4e",
      "metadata": {
        "colab": {
          "base_uri": "https://localhost:8080/",
          "height": 210
        },
        "id": "12a34a4e",
        "outputId": "8c45bc79-4dcb-4886-e661-e619f7581818"
      },
      "outputs": [
        {
          "output_type": "display_data",
          "data": {
            "text/plain": [
              "<Figure size 432x216 with 1 Axes>"
            ],
            "image/png": "[encoded data removed]"
          },
          "metadata": {}
        }
      ],
      "source": [
        "# utilizando o matplotib\n",
        "labels = df[\"Education\"].value_counts().index\n",
        "sizes = df[\"Education\"].value_counts()\n",
        "\n",
        "fig1, ax1 = plt.subplots()\n",
        "\n",
        "explode = (0.1,0,0,0,0,0.1)\n",
        "\n",
        "ax1.pie(sizes, labels=labels, autopct='%1.1f%%', shadow=True, startangle=90, explode=explode)\n",
        "ax1.set_title('Escolaridade dos pais por alunos')\n",
        "plt.show()"
      ]
    },
    {
      "cell_type": "code",
      "execution_count": 10,
      "id": "4a56a933",
      "metadata": {
        "colab": {
          "base_uri": "https://localhost:8080/",
          "height": 226
        },
        "id": "4a56a933",
        "outputId": "a92290f4-efa2-42ea-e36f-7e67ce59b6fc"
      },
      "outputs": [
        {
          "output_type": "display_data",
          "data": {
            "text/plain": [
              "<Figure size 432x216 with 1 Axes>"
            ],
            "image/png": "[encoded data removed]"
          },
          "metadata": {
            "needs_background": "light"
          }
        }
      ],
      "source": [
        "sns.countplot(data=df,x=\"race_ethnicity\")\n",
        "plt.show()"
      ]
    },
    {
      "cell_type": "code",
      "execution_count": 11,
      "id": "8d1a9473",
      "metadata": {
        "colab": {
          "base_uri": "https://localhost:8080/",
          "height": 227
        },
        "id": "8d1a9473",
        "outputId": "9f498d2a-a52c-4a7d-ea92-9c7053d3bff4"
      },
      "outputs": [
        {
          "output_type": "display_data",
          "data": {
            "text/plain": [
              "<Figure size 432x216 with 1 Axes>"
            ],
            "image/png": "[encoded data removed]"
          },
          "metadata": {
            "needs_background": "light"
          }
        }
      ],
      "source": [
        "sns.countplot(x=df[\"race_ethnicity\"], hue=df[\"gender\"], palette=\"bone\")\n",
        "plt.xlabel(\"Race/Ethnicity\")\n",
        "plt.ylabel(\"Frequency\")\n",
        "plt.show()"
      ]
    },
    {
      "cell_type": "markdown",
      "id": "ad5f9a50",
      "metadata": {
        "id": "ad5f9a50"
      },
      "source": [
        "## Conferindo o desempenho dos alunos por escolaridade dos pais"
      ]
    },
    {
      "cell_type": "code",
      "execution_count": 12,
      "id": "d2f7bd0b",
      "metadata": {
        "colab": {
          "base_uri": "https://localhost:8080/",
          "height": 226
        },
        "id": "d2f7bd0b",
        "outputId": "9f1dbcc8-4072-476e-a0d7-93e4727f42c3"
      },
      "outputs": [
        {
          "output_type": "display_data",
          "data": {
            "text/plain": [
              "<Figure size 432x216 with 1 Axes>"
            ],
            "image/png": "[encoded data removed]"
          },
          "metadata": {
            "needs_background": "light"
          }
        }
      ],
      "source": [
        "sns.barplot(data=df, x=\"math_score\", y=\"Education\")\n",
        "plt.show()"
      ]
    },
    {
      "cell_type": "code",
      "execution_count": 13,
      "id": "6e9ff561",
      "metadata": {
        "colab": {
          "base_uri": "https://localhost:8080/",
          "height": 226
        },
        "id": "6e9ff561",
        "outputId": "1da91214-6dbf-4641-9779-b0578daf14d7"
      },
      "outputs": [
        {
          "output_type": "display_data",
          "data": {
            "text/plain": [
              "<Figure size 432x216 with 1 Axes>"
            ],
            "image/png": "[encoded data removed]"
          },
          "metadata": {
            "needs_background": "light"
          }
        }
      ],
      "source": [
        "sns.barplot(data=df, x=\"reading_score\", y=\"Education\")\n",
        "plt.show()"
      ]
    },
    {
      "cell_type": "code",
      "execution_count": 14,
      "id": "1e63eac3",
      "metadata": {
        "colab": {
          "base_uri": "https://localhost:8080/",
          "height": 226
        },
        "id": "1e63eac3",
        "outputId": "7e422c2b-d0a3-412f-903a-29b584b5b7ee"
      },
      "outputs": [
        {
          "output_type": "display_data",
          "data": {
            "text/plain": [
              "<Figure size 432x216 with 1 Axes>"
            ],
            "image/png": "[encoded data removed]"
          },
          "metadata": {
            "needs_background": "light"
          }
        }
      ],
      "source": [
        "sns.barplot(data=df, x=\"writing_score\", y=\"Education\")\n",
        "plt.show()"
      ]
    },
    {
      "cell_type": "code",
      "execution_count": 15,
      "id": "2db16c62",
      "metadata": {
        "id": "2db16c62"
      },
      "outputs": [],
      "source": [
        "grupo_escolaridade = df.groupby('Education')"
      ]
    },
    {
      "cell_type": "code",
      "execution_count": 16,
      "id": "52218cec",
      "metadata": {
        "colab": {
          "base_uri": "https://localhost:8080/"
        },
        "id": "52218cec",
        "outputId": "cfeee4c7-2f9f-4da7-d9c6-6cbec10ebdbe"
      },
      "outputs": [
        {
          "output_type": "execute_result",
          "data": {
            "text/plain": [
              "{'associate's degree': [4, 12, 15, 17, 18, 20, 21, 33, 39, 46, 49, 52, 57, 70, 71, 78, 82, 84, 96, 99, 108, 115, 117, 124, 126, 129, 130, 133, 137, 140, 143, 149, 152, 154, 157, 158, 160, 161, 183, 184, 193, 198, 200, 201, 204, 209, 211, 216, 219, 221, 229, 235, 238, 241, 248, 249, 253, 259, 263, 266, 267, 277, 281, 285, 290, 310, 312, 314, 315, 323, 326, 329, 335, 338, 342, 347, 355, 365, 366, 383, 388, 396, 397, 401, 405, 407, 423, 427, 428, 432, 434, 438, 439, 454, 472, 479, 486, 499, 501, 502, ...], 'bachelor's degree': [6, 31, 34, 35, 45, 56, 63, 80, 93, 105, 107, 113, 118, 121, 122, 142, 148, 153, 162, 164, 165, 166, 176, 182, 194, 196, 215, 224, 227, 234, 236, 239, 256, 284, 294, 297, 304, 308, 309, 331, 352, 353, 357, 372, 374, 378, 389, 398, 411, 420, 430, 431, 444, 463, 467, 477, 481, 488, 489, 498, 515, 519, 520, 521, 529, 535, 539, 555, 556, 558, 575, 582, 584, 593, 604, 608, 612, 619, 627, 632, 636, 640, 690, 706, 726, 741, 748, 751, 780, 781, 782, 785, 794, 826, 849, 854, 860, 862, 866, 867, ...], 'high school': [0, 3, 5, 8, 11, 13, 16, 25, 27, 28, 37, 41, 42, 44, 48, 50, 53, 54, 66, 68, 69, 75, 77, 83, 89, 95, 97, 102, 103, 106, 114, 120, 131, 145, 151, 156, 169, 170, 179, 186, 188, 199, 210, 218, 228, 230, 237, 245, 254, 261, 272, 273, 276, 278, 279, 286, 289, 291, 293, 298, 299, 302, 306, 316, 320, 322, 327, 334, 337, 339, 344, 354, 356, 364, 369, 375, 376, 380, 381, 384, 391, 404, 408, 410, 415, 424, 440, 445, 448, 450, 451, 494, 500, 503, 504, 509, 517, 523, 538, 544, ...], 'master's degree': [40, 43, 64, 74, 92, 94, 112, 125, 144, 168, 185, 197, 206, 223, 307, 346, 351, 412, 426, 441, 453, 457, 482, 485, 490, 491, 513, 525, 552, 553, 577, 580, 586, 625, 626, 634, 635, 642, 671, 674, 713, 735, 754, 756, 762, 771, 778, 790, 795, 807, 808, 811, 817, 822, 823, 830, 833, 843, 855, 857, 868, 881, 895, 912, 929, 934, 959, 961, 967, 982], 'some college': [2, 7, 9, 10, 19, 22, 23, 30, 36, 38, 55, 58, 60, 72, 76, 86, 87, 88, 90, 98, 100, 101, 104, 109, 110, 116, 128, 132, 134, 136, 138, 141, 147, 150, 155, 171, 172, 174, 175, 178, 181, 202, 207, 208, 212, 217, 220, 226, 231, 232, 233, 240, 243, 250, 268, 269, 282, 283, 287, 292, 300, 303, 305, 313, 317, 319, 321, 328, 330, 332, 336, 345, 348, 360, 361, 363, 371, 373, 377, 379, 390, 392, 393, 399, 400, 403, 406, 409, 416, 418, 422, 425, 429, 433, 437, 443, 446, 449, 456, 458, ...], 'some high school': [1, 14, 24, 26, 29, 32, 47, 51, 59, 61, 62, 65, 67, 73, 79, 81, 85, 91, 111, 119, 123, 127, 135, 139, 146, 159, 163, 167, 173, 177, 180, 187, 189, 190, 191, 192, 195, 203, 205, 213, 214, 222, 225, 242, 244, 246, 247, 251, 252, 255, 257, 258, 260, 262, 264, 265, 270, 271, 274, 275, 280, 288, 295, 296, 301, 311, 318, 324, 325, 333, 340, 341, 343, 349, 350, 358, 359, 362, 367, 368, 370, 382, 385, 386, 387, 394, 395, 402, 413, 414, 417, 419, 421, 435, 436, 442, 447, 452, 455, 459, ...]}"
            ]
          },
          "metadata": {},
          "execution_count": 16
        }
      ],
      "source": [
        "grupo_escolaridade.groups"
      ]
    },
    {
      "cell_type": "code",
      "execution_count": 17,
      "id": "80a740ca",
      "metadata": {
        "colab": {
          "base_uri": "https://localhost:8080/",
          "height": 269
        },
        "id": "80a740ca",
        "outputId": "2261eeea-dd6d-46cb-a5f3-2c0c934acd98"
      },
      "outputs": [
        {
          "output_type": "execute_result",
          "data": {
            "text/plain": [
              "                    count   mean    std   min    25%   50%    75%    max\n",
              "Education                                                               \n",
              "associate's degree  203.0  69.54  14.10  23.0  60.00  70.0  78.00  100.0\n",
              "bachelor's degree   112.0  71.49  15.54  35.0  59.75  71.0  84.00  100.0\n",
              "high school         202.0  65.21  13.99  29.0  55.00  66.0  75.00  100.0\n",
              "master's degree      70.0  71.59  14.83  38.0  60.25  71.0  83.75  100.0\n",
              "some college        222.0  65.30  16.08  13.0  55.00  66.0  77.00  100.0\n",
              "some high school    191.0  60.70  15.37  25.0  50.00  60.0  71.00   97.0"
            ],
            "text/html": [
              "\n",
              "  <div id=\"df-73445e49-caa8-41b8-b659-1441d22663ec\">\n",
              "    <div class=\"colab-df-container\">\n",
              "      <div>\n",
              "<style scoped>\n",
              "    .dataframe tbody tr th:only-of-type {\n",
              "        vertical-align: middle;\n",
              "    }\n",
              "\n",
              "    .dataframe tbody tr th {\n",
              "        vertical-align: top;\n",
              "    }\n",
              "\n",
              "    .dataframe thead th {\n",
              "        text-align: right;\n",
              "    }\n",
              "</style>\n",
              "<table border=\"1\" class=\"dataframe\">\n",
              "  <thead>\n",
              "    <tr style=\"text-align: right;\">\n",
              "      <th></th>\n",
              "      <th>count</th>\n",
              "      <th>mean</th>\n",
              "      <th>std</th>\n",
              "      <th>min</th>\n",
              "      <th>25%</th>\n",
              "      <th>50%</th>\n",
              "      <th>75%</th>\n",
              "      <th>max</th>\n",
              "    </tr>\n",
              "    <tr>\n",
              "      <th>Education</th>\n",
              "      <th></th>\n",
              "      <th></th>\n",
              "      <th></th>\n",
              "      <th></th>\n",
              "      <th></th>\n",
              "      <th></th>\n",
              "      <th></th>\n",
              "      <th></th>\n",
              "    </tr>\n",
              "  </thead>\n",
              "  <tbody>\n",
              "    <tr>\n",
              "      <th>associate's degree</th>\n",
              "      <td>203.0</td>\n",
              "      <td>69.54</td>\n",
              "      <td>14.10</td>\n",
              "      <td>23.0</td>\n",
              "      <td>60.00</td>\n",
              "      <td>70.0</td>\n",
              "      <td>78.00</td>\n",
              "      <td>100.0</td>\n",
              "    </tr>\n",
              "    <tr>\n",
              "      <th>bachelor's degree</th>\n",
              "      <td>112.0</td>\n",
              "      <td>71.49</td>\n",
              "      <td>15.54</td>\n",
              "      <td>35.0</td>\n",
              "      <td>59.75</td>\n",
              "      <td>71.0</td>\n",
              "      <td>84.00</td>\n",
              "      <td>100.0</td>\n",
              "    </tr>\n",
              "    <tr>\n",
              "      <th>high school</th>\n",
              "      <td>202.0</td>\n",
              "      <td>65.21</td>\n",
              "      <td>13.99</td>\n",
              "      <td>29.0</td>\n",
              "      <td>55.00</td>\n",
              "      <td>66.0</td>\n",
              "      <td>75.00</td>\n",
              "      <td>100.0</td>\n",
              "    </tr>\n",
              "    <tr>\n",
              "      <th>master's degree</th>\n",
              "      <td>70.0</td>\n",
              "      <td>71.59</td>\n",
              "      <td>14.83</td>\n",
              "      <td>38.0</td>\n",
              "      <td>60.25</td>\n",
              "      <td>71.0</td>\n",
              "      <td>83.75</td>\n",
              "      <td>100.0</td>\n",
              "    </tr>\n",
              "    <tr>\n",
              "      <th>some college</th>\n",
              "      <td>222.0</td>\n",
              "      <td>65.30</td>\n",
              "      <td>16.08</td>\n",
              "      <td>13.0</td>\n",
              "      <td>55.00</td>\n",
              "      <td>66.0</td>\n",
              "      <td>77.00</td>\n",
              "      <td>100.0</td>\n",
              "    </tr>\n",
              "    <tr>\n",
              "      <th>some high school</th>\n",
              "      <td>191.0</td>\n",
              "      <td>60.70</td>\n",
              "      <td>15.37</td>\n",
              "      <td>25.0</td>\n",
              "      <td>50.00</td>\n",
              "      <td>60.0</td>\n",
              "      <td>71.00</td>\n",
              "      <td>97.0</td>\n",
              "    </tr>\n",
              "  </tbody>\n",
              "</table>\n",
              "</div>\n",
              "      <button class=\"colab-df-convert\" onclick=\"convertToInteractive('df-73445e49-caa8-41b8-b659-1441d22663ec')\"\n",
              "              title=\"Convert this dataframe to an interactive table.\"\n",
              "              style=\"display:none;\">\n",
              "        \n",
              "  <svg xmlns=\"http://www.w3.org/2000/svg\" height=\"24px\"viewBox=\"0 0 24 24\"\n",
              "       width=\"24px\">\n",
              "    <path d=\"M0 0h24v24H0V0z\" fill=\"none\"/>\n",
              "    <path d=\"M18.56 5.44l.94 2.06.94-2.06 2.06-.94-2.06-.94-.94-2.06-.94 2.06-2.06.94zm-11 1L8.5 8.5l.94-2.06 2.06-.94-2.06-.94L8.5 2.5l-.94 2.06-2.06.94zm10 10l.94 2.06.94-2.06 2.06-.94-2.06-.94-.94-2.06-.94 2.06-2.06.94z\"/><path d=\"M17.41 7.96l-1.37-1.37c-.4-.4-.92-.59-1.43-.59-.52 0-1.04.2-1.43.59L10.3 9.45l-7.72 7.72c-.78.78-.78 2.05 0 2.83L4 21.41c.39.39.9.59 1.41.59.51 0 1.02-.2 1.41-.59l7.78-7.78 2.81-2.81c.8-.78.8-2.07 0-2.86zM5.41 20L4 18.59l7.72-7.72 1.47 1.35L5.41 20z\"/>\n",
              "  </svg>\n",
              "      </button>\n",
              "      \n",
              "  <style>\n",
              "    .colab-df-container {\n",
              "      display:flex;\n",
              "      flex-wrap:wrap;\n",
              "      gap: 12px;\n",
              "    }\n",
              "\n",
              "    .colab-df-convert {\n",
              "      background-color: #E8F0FE;\n",
              "      border: none;\n",
              "      border-radius: 50%;\n",
              "      cursor: pointer;\n",
              "      display: none;\n",
              "      fill: #1967D2;\n",
              "      height: 32px;\n",
              "      padding: 0 0 0 0;\n",
              "      width: 32px;\n",
              "    }\n",
              "\n",
              "    .colab-df-convert:hover {\n",
              "      background-color: #E2EBFA;\n",
              "      box-shadow: 0px 1px 2px rgba(60, 64, 67, 0.3), 0px 1px 3px 1px rgba(60, 64, 67, 0.15);\n",
              "      fill: #174EA6;\n",
              "    }\n",
              "\n",
              "    [theme=dark] .colab-df-convert {\n",
              "      background-color: #3B4455;\n",
              "      fill: #D2E3FC;\n",
              "    }\n",
              "\n",
              "    [theme=dark] .colab-df-convert:hover {\n",
              "      background-color: #434B5C;\n",
              "      box-shadow: 0px 1px 3px 1px rgba(0, 0, 0, 0.15);\n",
              "      filter: drop-shadow(0px 1px 2px rgba(0, 0, 0, 0.3));\n",
              "      fill: #FFFFFF;\n",
              "    }\n",
              "  </style>\n",
              "\n",
              "      <script>\n",
              "        const buttonEl =\n",
              "          document.querySelector('#df-73445e49-caa8-41b8-b659-1441d22663ec button.colab-df-convert');\n",
              "        buttonEl.style.display =\n",
              "          google.colab.kernel.accessAllowed ? 'block' : 'none';\n",
              "\n",
              "        async function convertToInteractive(key) {\n",
              "          const element = document.querySelector('#df-73445e49-caa8-41b8-b659-1441d22663ec');\n",
              "          const dataTable =\n",
              "            await google.colab.kernel.invokeFunction('convertToInteractive',\n",
              "                                                     [key], {});\n",
              "          if (!dataTable) return;\n",
              "\n",
              "          const docLinkHtml = 'Like what you see? Visit the ' +\n",
              "            '<a target=\"_blank\" href=https://colab.research.google.com/notebooks/data_table.ipynb>data table notebook</a>'\n",
              "            + ' to learn more about interactive tables.';\n",
              "          element.innerHTML = '';\n",
              "          dataTable['output_type'] = 'display_data';\n",
              "          await google.colab.output.renderOutput(dataTable, element);\n",
              "          const docLink = document.createElement('div');\n",
              "          docLink.innerHTML = docLinkHtml;\n",
              "          element.appendChild(docLink);\n",
              "        }\n",
              "      </script>\n",
              "    </div>\n",
              "  </div>\n",
              "  "
            ]
          },
          "metadata": {},
          "execution_count": 17
        }
      ],
      "source": [
        "grupo_escolaridade['math_score'].describe().round(2)"
      ]
    },
    {
      "cell_type": "code",
      "execution_count": 18,
      "id": "68c96d15",
      "metadata": {
        "colab": {
          "base_uri": "https://localhost:8080/",
          "height": 269
        },
        "id": "68c96d15",
        "outputId": "2b349207-2ce6-4d35-bd88-853c2b19ec2c"
      },
      "outputs": [
        {
          "output_type": "execute_result",
          "data": {
            "text/plain": [
              "                    count   mean    std   min   25%   50%    75%    max\n",
              "Education                                                              \n",
              "associate's degree  203.0  70.99  13.52  34.0  62.0  72.0  80.00  100.0\n",
              "bachelor's degree   112.0  74.01  14.62  34.0  64.0  73.5  87.00  100.0\n",
              "high school         202.0  67.40  13.88  28.0  59.0  68.0  77.00  100.0\n",
              "master's degree      70.0  75.43  14.94  40.0  64.0  76.5  85.50  100.0\n",
              "some college        222.0  68.05  15.48  27.0  58.0  69.0  78.75  100.0\n",
              "some high school    191.0  64.41  14.14  31.0  54.5  64.0  74.00  100.0"
            ],
            "text/html": [
              "\n",
              "  <div id=\"df-af0c0b88-e8d8-48fa-ab5c-16d88419faea\">\n",
              "    <div class=\"colab-df-container\">\n",
              "      <div>\n",
              "<style scoped>\n",
              "    .dataframe tbody tr th:only-of-type {\n",
              "        vertical-align: middle;\n",
              "    }\n",
              "\n",
              "    .dataframe tbody tr th {\n",
              "        vertical-align: top;\n",
              "    }\n",
              "\n",
              "    .dataframe thead th {\n",
              "        text-align: right;\n",
              "    }\n",
              "</style>\n",
              "<table border=\"1\" class=\"dataframe\">\n",
              "  <thead>\n",
              "    <tr style=\"text-align: right;\">\n",
              "      <th></th>\n",
              "      <th>count</th>\n",
              "      <th>mean</th>\n",
              "      <th>std</th>\n",
              "      <th>min</th>\n",
              "      <th>25%</th>\n",
              "      <th>50%</th>\n",
              "      <th>75%</th>\n",
              "      <th>max</th>\n",
              "    </tr>\n",
              "    <tr>\n",
              "      <th>Education</th>\n",
              "      <th></th>\n",
              "      <th></th>\n",
              "      <th></th>\n",
              "      <th></th>\n",
              "      <th></th>\n",
              "      <th></th>\n",
              "      <th></th>\n",
              "      <th></th>\n",
              "    </tr>\n",
              "  </thead>\n",
              "  <tbody>\n",
              "    <tr>\n",
              "      <th>associate's degree</th>\n",
              "      <td>203.0</td>\n",
              "      <td>70.99</td>\n",
              "      <td>13.52</td>\n",
              "      <td>34.0</td>\n",
              "      <td>62.0</td>\n",
              "      <td>72.0</td>\n",
              "      <td>80.00</td>\n",
              "      <td>100.0</td>\n",
              "    </tr>\n",
              "    <tr>\n",
              "      <th>bachelor's degree</th>\n",
              "      <td>112.0</td>\n",
              "      <td>74.01</td>\n",
              "      <td>14.62</td>\n",
              "      <td>34.0</td>\n",
              "      <td>64.0</td>\n",
              "      <td>73.5</td>\n",
              "      <td>87.00</td>\n",
              "      <td>100.0</td>\n",
              "    </tr>\n",
              "    <tr>\n",
              "      <th>high school</th>\n",
              "      <td>202.0</td>\n",
              "      <td>67.40</td>\n",
              "      <td>13.88</td>\n",
              "      <td>28.0</td>\n",
              "      <td>59.0</td>\n",
              "      <td>68.0</td>\n",
              "      <td>77.00</td>\n",
              "      <td>100.0</td>\n",
              "    </tr>\n",
              "    <tr>\n",
              "      <th>master's degree</th>\n",
              "      <td>70.0</td>\n",
              "      <td>75.43</td>\n",
              "      <td>14.94</td>\n",
              "      <td>40.0</td>\n",
              "      <td>64.0</td>\n",
              "      <td>76.5</td>\n",
              "      <td>85.50</td>\n",
              "      <td>100.0</td>\n",
              "    </tr>\n",
              "    <tr>\n",
              "      <th>some college</th>\n",
              "      <td>222.0</td>\n",
              "      <td>68.05</td>\n",
              "      <td>15.48</td>\n",
              "      <td>27.0</td>\n",
              "      <td>58.0</td>\n",
              "      <td>69.0</td>\n",
              "      <td>78.75</td>\n",
              "      <td>100.0</td>\n",
              "    </tr>\n",
              "    <tr>\n",
              "      <th>some high school</th>\n",
              "      <td>191.0</td>\n",
              "      <td>64.41</td>\n",
              "      <td>14.14</td>\n",
              "      <td>31.0</td>\n",
              "      <td>54.5</td>\n",
              "      <td>64.0</td>\n",
              "      <td>74.00</td>\n",
              "      <td>100.0</td>\n",
              "    </tr>\n",
              "  </tbody>\n",
              "</table>\n",
              "</div>\n",
              "      <button class=\"colab-df-convert\" onclick=\"convertToInteractive('df-af0c0b88-e8d8-48fa-ab5c-16d88419faea')\"\n",
              "              title=\"Convert this dataframe to an interactive table.\"\n",
              "              style=\"display:none;\">\n",
              "        \n",
              "  <svg xmlns=\"http://www.w3.org/2000/svg\" height=\"24px\"viewBox=\"0 0 24 24\"\n",
              "       width=\"24px\">\n",
              "    <path d=\"M0 0h24v24H0V0z\" fill=\"none\"/>\n",
              "    <path d=\"M18.56 5.44l.94 2.06.94-2.06 2.06-.94-2.06-.94-.94-2.06-.94 2.06-2.06.94zm-11 1L8.5 8.5l.94-2.06 2.06-.94-2.06-.94L8.5 2.5l-.94 2.06-2.06.94zm10 10l.94 2.06.94-2.06 2.06-.94-2.06-.94-.94-2.06-.94 2.06-2.06.94z\"/><path d=\"M17.41 7.96l-1.37-1.37c-.4-.4-.92-.59-1.43-.59-.52 0-1.04.2-1.43.59L10.3 9.45l-7.72 7.72c-.78.78-.78 2.05 0 2.83L4 21.41c.39.39.9.59 1.41.59.51 0 1.02-.2 1.41-.59l7.78-7.78 2.81-2.81c.8-.78.8-2.07 0-2.86zM5.41 20L4 18.59l7.72-7.72 1.47 1.35L5.41 20z\"/>\n",
              "  </svg>\n",
              "      </button>\n",
              "      \n",
              "  <style>\n",
              "    .colab-df-container {\n",
              "      display:flex;\n",
              "      flex-wrap:wrap;\n",
              "      gap: 12px;\n",
              "    }\n",
              "\n",
              "    .colab-df-convert {\n",
              "      background-color: #E8F0FE;\n",
              "      border: none;\n",
              "      border-radius: 50%;\n",
              "      cursor: pointer;\n",
              "      display: none;\n",
              "      fill: #1967D2;\n",
              "      height: 32px;\n",
              "      padding: 0 0 0 0;\n",
              "      width: 32px;\n",
              "    }\n",
              "\n",
              "    .colab-df-convert:hover {\n",
              "      background-color: #E2EBFA;\n",
              "      box-shadow: 0px 1px 2px rgba(60, 64, 67, 0.3), 0px 1px 3px 1px rgba(60, 64, 67, 0.15);\n",
              "      fill: #174EA6;\n",
              "    }\n",
              "\n",
              "    [theme=dark] .colab-df-convert {\n",
              "      background-color: #3B4455;\n",
              "      fill: #D2E3FC;\n",
              "    }\n",
              "\n",
              "    [theme=dark] .colab-df-convert:hover {\n",
              "      background-color: #434B5C;\n",
              "      box-shadow: 0px 1px 3px 1px rgba(0, 0, 0, 0.15);\n",
              "      filter: drop-shadow(0px 1px 2px rgba(0, 0, 0, 0.3));\n",
              "      fill: #FFFFFF;\n",
              "    }\n",
              "  </style>\n",
              "\n",
              "      <script>\n",
              "        const buttonEl =\n",
              "          document.querySelector('#df-af0c0b88-e8d8-48fa-ab5c-16d88419faea button.colab-df-convert');\n",
              "        buttonEl.style.display =\n",
              "          google.colab.kernel.accessAllowed ? 'block' : 'none';\n",
              "\n",
              "        async function convertToInteractive(key) {\n",
              "          const element = document.querySelector('#df-af0c0b88-e8d8-48fa-ab5c-16d88419faea');\n",
              "          const dataTable =\n",
              "            await google.colab.kernel.invokeFunction('convertToInteractive',\n",
              "                                                     [key], {});\n",
              "          if (!dataTable) return;\n",
              "\n",
              "          const docLinkHtml = 'Like what you see? Visit the ' +\n",
              "            '<a target=\"_blank\" href=https://colab.research.google.com/notebooks/data_table.ipynb>data table notebook</a>'\n",
              "            + ' to learn more about interactive tables.';\n",
              "          element.innerHTML = '';\n",
              "          dataTable['output_type'] = 'display_data';\n",
              "          await google.colab.output.renderOutput(dataTable, element);\n",
              "          const docLink = document.createElement('div');\n",
              "          docLink.innerHTML = docLinkHtml;\n",
              "          element.appendChild(docLink);\n",
              "        }\n",
              "      </script>\n",
              "    </div>\n",
              "  </div>\n",
              "  "
            ]
          },
          "metadata": {},
          "execution_count": 18
        }
      ],
      "source": [
        "grupo_escolaridade['reading_score'].describe().round(2)"
      ]
    },
    {
      "cell_type": "code",
      "execution_count": 19,
      "id": "60a8f4b7",
      "metadata": {
        "colab": {
          "base_uri": "https://localhost:8080/",
          "height": 269
        },
        "id": "60a8f4b7",
        "outputId": "86ee2efa-8167-4112-e6ac-814e0289a322"
      },
      "outputs": [
        {
          "output_type": "execute_result",
          "data": {
            "text/plain": [
              "                    count   mean    std   min   25%   50%    75%    max\n",
              "Education                                                              \n",
              "associate's degree  203.0  70.11  14.07  36.0  60.0  70.0  79.50  100.0\n",
              "bachelor's degree   112.0  74.41  15.30  33.0  63.0  74.0  86.25  100.0\n",
              "high school         202.0  64.85  14.57  23.0  57.0  65.0  74.00   97.0\n",
              "master's degree      70.0  75.89  16.17  41.0  65.0  77.0  87.00  100.0\n",
              "some college        222.0  66.73  15.98  23.0  56.0  69.0  79.00  100.0\n",
              "some high school    191.0  62.54  14.91  27.0  50.5  62.0  73.00   97.0"
            ],
            "text/html": [
              "\n",
              "  <div id=\"df-1614db2b-208d-4bec-9d26-d35a576ff926\">\n",
              "    <div class=\"colab-df-container\">\n",
              "      <div>\n",
              "<style scoped>\n",
              "    .dataframe tbody tr th:only-of-type {\n",
              "        vertical-align: middle;\n",
              "    }\n",
              "\n",
              "    .dataframe tbody tr th {\n",
              "        vertical-align: top;\n",
              "    }\n",
              "\n",
              "    .dataframe thead th {\n",
              "        text-align: right;\n",
              "    }\n",
              "</style>\n",
              "<table border=\"1\" class=\"dataframe\">\n",
              "  <thead>\n",
              "    <tr style=\"text-align: right;\">\n",
              "      <th></th>\n",
              "      <th>count</th>\n",
              "      <th>mean</th>\n",
              "      <th>std</th>\n",
              "      <th>min</th>\n",
              "      <th>25%</th>\n",
              "      <th>50%</th>\n",
              "      <th>75%</th>\n",
              "      <th>max</th>\n",
              "    </tr>\n",
              "    <tr>\n",
              "      <th>Education</th>\n",
              "      <th></th>\n",
              "      <th></th>\n",
              "      <th></th>\n",
              "      <th></th>\n",
              "      <th></th>\n",
              "      <th></th>\n",
              "      <th></th>\n",
              "      <th></th>\n",
              "    </tr>\n",
              "  </thead>\n",
              "  <tbody>\n",
              "    <tr>\n",
              "      <th>associate's degree</th>\n",
              "      <td>203.0</td>\n",
              "      <td>70.11</td>\n",
              "      <td>14.07</td>\n",
              "      <td>36.0</td>\n",
              "      <td>60.0</td>\n",
              "      <td>70.0</td>\n",
              "      <td>79.50</td>\n",
              "      <td>100.0</td>\n",
              "    </tr>\n",
              "    <tr>\n",
              "      <th>bachelor's degree</th>\n",
              "      <td>112.0</td>\n",
              "      <td>74.41</td>\n",
              "      <td>15.30</td>\n",
              "      <td>33.0</td>\n",
              "      <td>63.0</td>\n",
              "      <td>74.0</td>\n",
              "      <td>86.25</td>\n",
              "      <td>100.0</td>\n",
              "    </tr>\n",
              "    <tr>\n",
              "      <th>high school</th>\n",
              "      <td>202.0</td>\n",
              "      <td>64.85</td>\n",
              "      <td>14.57</td>\n",
              "      <td>23.0</td>\n",
              "      <td>57.0</td>\n",
              "      <td>65.0</td>\n",
              "      <td>74.00</td>\n",
              "      <td>97.0</td>\n",
              "    </tr>\n",
              "    <tr>\n",
              "      <th>master's degree</th>\n",
              "      <td>70.0</td>\n",
              "      <td>75.89</td>\n",
              "      <td>16.17</td>\n",
              "      <td>41.0</td>\n",
              "      <td>65.0</td>\n",
              "      <td>77.0</td>\n",
              "      <td>87.00</td>\n",
              "      <td>100.0</td>\n",
              "    </tr>\n",
              "    <tr>\n",
              "      <th>some college</th>\n",
              "      <td>222.0</td>\n",
              "      <td>66.73</td>\n",
              "      <td>15.98</td>\n",
              "      <td>23.0</td>\n",
              "      <td>56.0</td>\n",
              "      <td>69.0</td>\n",
              "      <td>79.00</td>\n",
              "      <td>100.0</td>\n",
              "    </tr>\n",
              "    <tr>\n",
              "      <th>some high school</th>\n",
              "      <td>191.0</td>\n",
              "      <td>62.54</td>\n",
              "      <td>14.91</td>\n",
              "      <td>27.0</td>\n",
              "      <td>50.5</td>\n",
              "      <td>62.0</td>\n",
              "      <td>73.00</td>\n",
              "      <td>97.0</td>\n",
              "    </tr>\n",
              "  </tbody>\n",
              "</table>\n",
              "</div>\n",
              "      <button class=\"colab-df-convert\" onclick=\"convertToInteractive('df-1614db2b-208d-4bec-9d26-d35a576ff926')\"\n",
              "              title=\"Convert this dataframe to an interactive table.\"\n",
              "              style=\"display:none;\">\n",
              "        \n",
              "  <svg xmlns=\"http://www.w3.org/2000/svg\" height=\"24px\"viewBox=\"0 0 24 24\"\n",
              "       width=\"24px\">\n",
              "    <path d=\"M0 0h24v24H0V0z\" fill=\"none\"/>\n",
              "    <path d=\"M18.56 5.44l.94 2.06.94-2.06 2.06-.94-2.06-.94-.94-2.06-.94 2.06-2.06.94zm-11 1L8.5 8.5l.94-2.06 2.06-.94-2.06-.94L8.5 2.5l-.94 2.06-2.06.94zm10 10l.94 2.06.94-2.06 2.06-.94-2.06-.94-.94-2.06-.94 2.06-2.06.94z\"/><path d=\"M17.41 7.96l-1.37-1.37c-.4-.4-.92-.59-1.43-.59-.52 0-1.04.2-1.43.59L10.3 9.45l-7.72 7.72c-.78.78-.78 2.05 0 2.83L4 21.41c.39.39.9.59 1.41.59.51 0 1.02-.2 1.41-.59l7.78-7.78 2.81-2.81c.8-.78.8-2.07 0-2.86zM5.41 20L4 18.59l7.72-7.72 1.47 1.35L5.41 20z\"/>\n",
              "  </svg>\n",
              "      </button>\n",
              "      \n",
              "  <style>\n",
              "    .colab-df-container {\n",
              "      display:flex;\n",
              "      flex-wrap:wrap;\n",
              "      gap: 12px;\n",
              "    }\n",
              "\n",
              "    .colab-df-convert {\n",
              "      background-color: #E8F0FE;\n",
              "      border: none;\n",
              "      border-radius: 50%;\n",
              "      cursor: pointer;\n",
              "      display: none;\n",
              "      fill: #1967D2;\n",
              "      height: 32px;\n",
              "      padding: 0 0 0 0;\n",
              "      width: 32px;\n",
              "    }\n",
              "\n",
              "    .colab-df-convert:hover {\n",
              "      background-color: #E2EBFA;\n",
              "      box-shadow: 0px 1px 2px rgba(60, 64, 67, 0.3), 0px 1px 3px 1px rgba(60, 64, 67, 0.15);\n",
              "      fill: #174EA6;\n",
              "    }\n",
              "\n",
              "    [theme=dark] .colab-df-convert {\n",
              "      background-color: #3B4455;\n",
              "      fill: #D2E3FC;\n",
              "    }\n",
              "\n",
              "    [theme=dark] .colab-df-convert:hover {\n",
              "      background-color: #434B5C;\n",
              "      box-shadow: 0px 1px 3px 1px rgba(0, 0, 0, 0.15);\n",
              "      filter: drop-shadow(0px 1px 2px rgba(0, 0, 0, 0.3));\n",
              "      fill: #FFFFFF;\n",
              "    }\n",
              "  </style>\n",
              "\n",
              "      <script>\n",
              "        const buttonEl =\n",
              "          document.querySelector('#df-1614db2b-208d-4bec-9d26-d35a576ff926 button.colab-df-convert');\n",
              "        buttonEl.style.display =\n",
              "          google.colab.kernel.accessAllowed ? 'block' : 'none';\n",
              "\n",
              "        async function convertToInteractive(key) {\n",
              "          const element = document.querySelector('#df-1614db2b-208d-4bec-9d26-d35a576ff926');\n",
              "          const dataTable =\n",
              "            await google.colab.kernel.invokeFunction('convertToInteractive',\n",
              "                                                     [key], {});\n",
              "          if (!dataTable) return;\n",
              "\n",
              "          const docLinkHtml = 'Like what you see? Visit the ' +\n",
              "            '<a target=\"_blank\" href=https://colab.research.google.com/notebooks/data_table.ipynb>data table notebook</a>'\n",
              "            + ' to learn more about interactive tables.';\n",
              "          element.innerHTML = '';\n",
              "          dataTable['output_type'] = 'display_data';\n",
              "          await google.colab.output.renderOutput(dataTable, element);\n",
              "          const docLink = document.createElement('div');\n",
              "          docLink.innerHTML = docLinkHtml;\n",
              "          element.appendChild(docLink);\n",
              "        }\n",
              "      </script>\n",
              "    </div>\n",
              "  </div>\n",
              "  "
            ]
          },
          "metadata": {},
          "execution_count": 19
        }
      ],
      "source": [
        "grupo_escolaridade['writing_score'].describe().round(2)"
      ]
    },
    {
      "cell_type": "code",
      "execution_count": 20,
      "id": "1716d9fb",
      "metadata": {
        "colab": {
          "base_uri": "https://localhost:8080/",
          "height": 326
        },
        "id": "1716d9fb",
        "outputId": "450c9983-99f2-4866-a6cd-d55d4faa3682"
      },
      "outputs": [
        {
          "output_type": "display_data",
          "data": {
            "text/plain": [
              "<Figure size 432x216 with 1 Axes>"
            ],
            "image/png": "[encoded data removed]"
          },
          "metadata": {
            "needs_background": "light"
          }
        }
      ],
      "source": [
        "# Utilizando o pandas\n",
        "fig = grupo_escolaridade['math_score'].mean().plot.bar(color = 'blue')\n",
        "fig.set_ylabel('Nota')\n",
        "fig.set_title('Média dos alunos de matemática por escolaridade dos pais', {'fontsize': 14})\n",
        "plt.show()"
      ]
    },
    {
      "cell_type": "code",
      "execution_count": 21,
      "id": "7b6c00be",
      "metadata": {
        "colab": {
          "base_uri": "https://localhost:8080/",
          "height": 326
        },
        "id": "7b6c00be",
        "outputId": "3d603a53-1148-45cf-c5d2-3d4f24e7dcfc"
      },
      "outputs": [
        {
          "output_type": "display_data",
          "data": {
            "text/plain": [
              "<Figure size 432x216 with 1 Axes>"
            ],
            "image/png": "[encoded data removed]"
          },
          "metadata": {
            "needs_background": "light"
          }
        }
      ],
      "source": [
        "# Utilizando o pandas\n",
        "fig = grupo_escolaridade['reading_score'].mean().plot.bar(color = 'red')\n",
        "fig.set_ylabel('Nota')\n",
        "fig.set_title('Média dos alunos de leitura por escolaridade dos pais', {'fontsize': 14})\n",
        "plt.show()"
      ]
    },
    {
      "cell_type": "code",
      "execution_count": 22,
      "id": "2454132e",
      "metadata": {
        "colab": {
          "base_uri": "https://localhost:8080/",
          "height": 326
        },
        "id": "2454132e",
        "outputId": "73eb6a10-a2c0-4ff8-a077-23f49dcac266"
      },
      "outputs": [
        {
          "output_type": "display_data",
          "data": {
            "text/plain": [
              "<Figure size 432x216 with 1 Axes>"
            ],
            "image/png": "[encoded data removed]"
          },
          "metadata": {
            "needs_background": "light"
          }
        }
      ],
      "source": [
        "# Utilizando o pandas\n",
        "fig = grupo_escolaridade['writing_score'].mean().plot.bar(color = 'green')\n",
        "fig.set_ylabel('Nota')\n",
        "fig.set_title('Média dos alunos em escrita por escolaridade dos pais', {'fontsize': 14})\n",
        "plt.show()"
      ]
    },
    {
      "cell_type": "markdown",
      "id": "1963e135",
      "metadata": {
        "id": "1963e135"
      },
      "source": [
        "## Conferindo quem estudou para a prova"
      ]
    },
    {
      "cell_type": "code",
      "execution_count": 23,
      "id": "5aa5b806",
      "metadata": {
        "colab": {
          "base_uri": "https://localhost:8080/",
          "height": 226
        },
        "id": "5aa5b806",
        "outputId": "4fa4a535-8d33-4e80-ec0c-62cb40467b8f"
      },
      "outputs": [
        {
          "output_type": "display_data",
          "data": {
            "text/plain": [
              "<Figure size 432x216 with 1 Axes>"
            ],
            "image/png": "[encoded data removed]"
          },
          "metadata": {
            "needs_background": "light"
          }
        }
      ],
      "source": [
        "sns.barplot(y = \"Education\", x = \"math_score\", data = df, hue = \"test_preparation_course\", palette='ocean')\n",
        "plt.show()"
      ]
    },
    {
      "cell_type": "code",
      "execution_count": 24,
      "id": "078982be",
      "metadata": {
        "colab": {
          "base_uri": "https://localhost:8080/",
          "height": 226
        },
        "id": "078982be",
        "outputId": "505be605-e810-4e65-8962-e467c092b1a4"
      },
      "outputs": [
        {
          "output_type": "display_data",
          "data": {
            "text/plain": [
              "<Figure size 432x216 with 1 Axes>"
            ],
            "image/png": "[encoded data removed]"
          },
          "metadata": {
            "needs_background": "light"
          }
        }
      ],
      "source": [
        "sns.barplot(y = \"Education\", x = \"reading_score\", data = df, hue = \"test_preparation_course\", palette='ocean')\n",
        "plt.show()"
      ]
    },
    {
      "cell_type": "code",
      "execution_count": 25,
      "id": "12decb72",
      "metadata": {
        "colab": {
          "base_uri": "https://localhost:8080/",
          "height": 226
        },
        "id": "12decb72",
        "outputId": "da45f573-aabe-4911-bd86-4fd0536412d5"
      },
      "outputs": [
        {
          "output_type": "display_data",
          "data": {
            "text/plain": [
              "<Figure size 432x216 with 1 Axes>"
            ],
            "image/png": "[encoded data removed]"
          },
          "metadata": {
            "needs_background": "light"
          }
        }
      ],
      "source": [
        "sns.barplot(y = \"Education\", x = \"writing_score\", data = df, hue = \"test_preparation_course\", palette='ocean')\n",
        "plt.show()"
      ]
    },
    {
      "cell_type": "markdown",
      "id": "20ef572c",
      "metadata": {
        "id": "20ef572c"
      },
      "source": [
        "## Conferindo a alimentação"
      ]
    },
    {
      "cell_type": "code",
      "execution_count": 26,
      "id": "6f319636",
      "metadata": {
        "colab": {
          "base_uri": "https://localhost:8080/",
          "height": 226
        },
        "id": "6f319636",
        "outputId": "327f9124-038e-429b-82fb-61ba49387df4"
      },
      "outputs": [
        {
          "output_type": "display_data",
          "data": {
            "text/plain": [
              "<Figure size 432x216 with 1 Axes>"
            ],
            "image/png": "[encoded data removed]"
          },
          "metadata": {
            "needs_background": "light"
          }
        }
      ],
      "source": [
        "sns.barplot(y = \"lunch\", x = \"math_score\", data = df, hue = \"Education\", palette='bright')\n",
        "plt.show()"
      ]
    },
    {
      "cell_type": "code",
      "execution_count": 27,
      "id": "19009144",
      "metadata": {
        "colab": {
          "base_uri": "https://localhost:8080/",
          "height": 226
        },
        "id": "19009144",
        "outputId": "02f892a5-484c-4baf-8dec-3fc9cb3471ed"
      },
      "outputs": [
        {
          "output_type": "display_data",
          "data": {
            "text/plain": [
              "<Figure size 432x216 with 1 Axes>"
            ],
            "image/png": "[encoded data removed]"
          },
          "metadata": {
            "needs_background": "light"
          }
        }
      ],
      "source": [
        "sns.barplot(y = \"lunch\", x = \"reading_score\", data = df, hue = \"Education\", palette='bright')\n",
        "plt.show()"
      ]
    },
    {
      "cell_type": "code",
      "execution_count": 28,
      "id": "df07327d",
      "metadata": {
        "colab": {
          "base_uri": "https://localhost:8080/",
          "height": 226
        },
        "id": "df07327d",
        "outputId": "c5273b85-03a0-4bea-8263-9dd26b327414"
      },
      "outputs": [
        {
          "output_type": "display_data",
          "data": {
            "text/plain": [
              "<Figure size 432x216 with 1 Axes>"
            ],
            "image/png": "[encoded data removed]"
          },
          "metadata": {
            "needs_background": "light"
          }
        }
      ],
      "source": [
        "sns.barplot(y = \"lunch\", x = \"writing_score\", data = df, hue = \"Education\", palette='bright')\n",
        "plt.show()"
      ]
    }
  ],
  "metadata": {
    "kernelspec": {
      "display_name": "Python 3 (ipykernel)",
      "language": "python",
      "name": "python3"
    },
    "language_info": {
      "codemirror_mode": {
        "name": "ipython",
        "version": 3
      },
      "file_extension": ".py",
      "mimetype": "text/x-python",
      "name": "python",
      "nbconvert_exporter": "python",
      "pygments_lexer": "ipython3",
      "version": "3.9.13"
    },
    "colab": {
      "provenance": [],
      "include_colab_link": true
    }
  },
  "nbformat": 4,
  "nbformat_minor": 5
}